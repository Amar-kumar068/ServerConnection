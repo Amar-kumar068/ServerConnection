{
 "cells": [
  {
   "cell_type": "markdown",
   "id": "685c03ee",
   "metadata": {},
   "source": [
    "#### Importing libraries"
   ]
  },
  {
   "cell_type": "code",
   "execution_count": 1,
   "id": "fb8a6aec",
   "metadata": {},
   "outputs": [],
   "source": [
    "import pandas as pd\n",
    "import paramiko\n",
    "import os\n",
    "import PyPDF2\n",
    "from tqdm.notebook import tqdm_notebook\n",
    "import time"
   ]
  },
  {
   "cell_type": "markdown",
   "id": "9d4724e9",
   "metadata": {},
   "source": [
    "#### Connection details"
   ]
  },
  {
   "cell_type": "code",
   "execution_count": 2,
   "id": "43392060",
   "metadata": {},
   "outputs": [],
   "source": [
    "host = \" \"   #provide host name\n",
    "port = 22\n",
    "username = \" \"  #provide user name\n",
    "password = \"****\"   #provide password"
   ]
  },
  {
   "cell_type": "code",
   "execution_count": 4,
   "id": "740e6bc5",
   "metadata": {},
   "outputs": [],
   "source": [
    "docs=[]\n",
    "file_path=list()\n",
    "bad_file=list()"
   ]
  },
  {
   "cell_type": "markdown",
   "id": "883a68bb",
   "metadata": {},
   "source": [
    "#### Method for reading pdf file from server and extracting data"
   ]
  },
  {
   "cell_type": "code",
   "execution_count": 3,
   "id": "1bdb34ca",
   "metadata": {},
   "outputs": [],
   "source": [
    "def read_files(hostname: str, username: str,password: str, remotepath: str):\n",
    "   \n",
    "    # open an SSH connection\n",
    "    client = paramiko.SSHClient()\n",
    "    client.set_missing_host_key_policy(paramiko.AutoAddPolicy())\n",
    "    client.connect(hostname, username=username, password=password)\n",
    "    # read the file using SFTP\n",
    "    sftp = client.open_sftp()\n",
    "    sftp.chdir(remotepath)\n",
    "    files=sftp.listdir()\n",
    "#     print(files)\n",
    "        \n",
    "    for file in tqdm_notebook(files):\n",
    "        \n",
    "        try:\n",
    "            \n",
    "            # creating a pdf file object\n",
    "            pdfFileObj = sftp.open(file, 'rb')\n",
    "#             print(pdfFileObj)\n",
    "#             break\n",
    "            # creating a pdf reader object\n",
    "            pdfReader = PyPDF2.PdfFileReader(pdfFileObj)\n",
    "#             print(pdfReader)\n",
    "#             break\n",
    "\n",
    "            # printing number of pages in pdf file\n",
    "            num_pages=pdfReader.numPages\n",
    "\n",
    "            # creating a page object\n",
    "            this_doc = ''\n",
    "#             print(file)\n",
    "#             break\n",
    "#             print(type(text))\n",
    "            for i in range(num_pages):\n",
    "                pageObj=pdfReader.getPage(i)\n",
    "#                 print(pageObj)\n",
    "#                 break\n",
    "                this_text=pageObj.extractText()\n",
    "                this_doc += this_text\n",
    "                # extracting text from page\n",
    "                \n",
    "#             break\n",
    "        \n",
    "\n",
    "            docs.append(this_doc)\n",
    "            file_path.append(os.path.join(remotepath,file))\n",
    "            \n",
    "            # closing the pdf file object\n",
    "            pdfFileObj.close()\n",
    "            \n",
    "            \n",
    "        except Exception:\n",
    "            print(\"Not reading this file\")\n",
    "            bad_file.append(file)\n",
    "#             \n",
    "            continue\n",
    "      \n",
    "    \n",
    "#     print(len(files))\n",
    "#    print(remote_file)\n",
    "#     remote_file.close()\n",
    "    # close the connections\n",
    "    sftp.close()\n",
    "    client.close()\n",
    "    return docs\n",
    "\n"
   ]
  },
  {
   "cell_type": "code",
   "execution_count": 5,
   "id": "c5b67a8b",
   "metadata": {},
   "outputs": [],
   "source": [
    "path=''   # give the directory or path of server where files are kept"
   ]
  },
  {
   "cell_type": "code",
   "execution_count": null,
   "id": "deadf8cb",
   "metadata": {},
   "outputs": [],
   "source": [
    "read_files(host,username,password,path)   ###call the method"
   ]
  }
 ],
 "metadata": {
  "kernelspec": {
   "display_name": "Python 3",
   "language": "python",
   "name": "python3"
  },
  "language_info": {
   "codemirror_mode": {
    "name": "ipython",
    "version": 3
   },
   "file_extension": ".py",
   "mimetype": "text/x-python",
   "name": "python",
   "nbconvert_exporter": "python",
   "pygments_lexer": "ipython3",
   "version": "3.8.8"
  }
 },
 "nbformat": 4,
 "nbformat_minor": 5
}
